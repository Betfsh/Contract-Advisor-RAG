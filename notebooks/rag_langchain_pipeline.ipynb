{
 "cells": [
  {
   "cell_type": "markdown",
   "metadata": {},
   "source": [
    "## RAG Langchain Pipeline"
   ]
  },
  {
   "cell_type": "markdown",
   "metadata": {},
   "source": [
    "### Import Packages"
   ]
  },
  {
   "cell_type": "code",
   "execution_count": 1,
   "metadata": {},
   "outputs": [],
   "source": [
    "import os\n",
    "import sys\n",
    "sys.path.append(os.path.abspath(os.path.join('../scripts')))"
   ]
  },
  {
   "cell_type": "code",
   "execution_count": 2,
   "metadata": {},
   "outputs": [
    {
     "ename": "ModuleNotFoundError",
     "evalue": "No module named 'rag_utils'",
     "output_type": "error",
     "traceback": [
      "\u001b[0;31m---------------------------------------------------------------------------\u001b[0m",
      "\u001b[0;31mModuleNotFoundError\u001b[0m                       Traceback (most recent call last)",
      "Cell \u001b[0;32mIn[2], line 2\u001b[0m\n\u001b[1;32m      1\u001b[0m \u001b[38;5;28;01mfrom\u001b[39;00m \u001b[38;5;21;01mdatasets\u001b[39;00m \u001b[38;5;28;01mimport\u001b[39;00m Dataset\n\u001b[0;32m----> 2\u001b[0m \u001b[38;5;28;01mfrom\u001b[39;00m \u001b[38;5;21;01mrag_utils\u001b[39;00m \u001b[38;5;28;01mimport\u001b[39;00m create_chunks, convert_docx_to_txt, create_retriever, load_file, create_langchain_pipeline, read_questions_answers, ragas_evaulation\n",
      "\u001b[0;31mModuleNotFoundError\u001b[0m: No module named 'rag_utils'"
     ]
    }
   ],
   "source": [
    "from datasets import Dataset\n",
    "from rag_utils import create_chunks, convert_docx_to_txt, create_retriever, load_file, create_langchain_pipeline, read_questions_answers, ragas_evaulation"
   ]
  },
  {
   "cell_type": "markdown",
   "metadata": {},
   "source": [
    "### Create chunks"
   ]
  },
  {
   "cell_type": "code",
   "execution_count": 3,
   "metadata": {},
   "outputs": [
    {
     "ename": "NameError",
     "evalue": "name 'convert_docx_to_txt' is not defined",
     "output_type": "error",
     "traceback": [
      "\u001b[0;31m---------------------------------------------------------------------------\u001b[0m",
      "\u001b[0;31mNameError\u001b[0m                                 Traceback (most recent call last)",
      "Cell \u001b[0;32mIn[3], line 2\u001b[0m\n\u001b[1;32m      1\u001b[0m docx_file_path \u001b[38;5;241m=\u001b[39m \u001b[38;5;124m\"\u001b[39m\u001b[38;5;124m../data/Robinson Advisory.docx\u001b[39m\u001b[38;5;124m\"\u001b[39m\n\u001b[0;32m----> 2\u001b[0m txt_file_path \u001b[38;5;241m=\u001b[39m \u001b[43mconvert_docx_to_txt\u001b[49m(docx_file_path)\n\u001b[1;32m      4\u001b[0m chunks \u001b[38;5;241m=\u001b[39m create_chunks(txt_file_path)\n",
      "\u001b[0;31mNameError\u001b[0m: name 'convert_docx_to_txt' is not defined"
     ]
    }
   ],
   "source": [
    "docx_file_path = \"../data/Robinson Advisory.docx\"\n",
    "txt_file_path = convert_docx_to_txt(docx_file_path)\n",
    "\n",
    "chunks = create_chunks(txt_file_path)"
   ]
  },
  {
   "cell_type": "markdown",
   "metadata": {},
   "source": [
    "### Create Retriver"
   ]
  },
  {
   "cell_type": "code",
   "execution_count": 4,
   "metadata": {},
   "outputs": [
    {
     "ename": "NameError",
     "evalue": "name 'create_retriever' is not defined",
     "output_type": "error",
     "traceback": [
      "\u001b[0;31m---------------------------------------------------------------------------\u001b[0m",
      "\u001b[0;31mNameError\u001b[0m                                 Traceback (most recent call last)",
      "Cell \u001b[0;32mIn[4], line 1\u001b[0m\n\u001b[0;32m----> 1\u001b[0m retriever \u001b[38;5;241m=\u001b[39m \u001b[43mcreate_retriever\u001b[49m(chunks)\n",
      "\u001b[0;31mNameError\u001b[0m: name 'create_retriever' is not defined"
     ]
    }
   ],
   "source": [
    "retriever = create_retriever(chunks)"
   ]
  },
  {
   "cell_type": "markdown",
   "metadata": {},
   "source": [
    "### Create langchain pipeline"
   ]
  },
  {
   "cell_type": "code",
   "execution_count": 5,
   "metadata": {},
   "outputs": [
    {
     "ename": "NameError",
     "evalue": "name 'load_file' is not defined",
     "output_type": "error",
     "traceback": [
      "\u001b[0;31m---------------------------------------------------------------------------\u001b[0m",
      "\u001b[0;31mNameError\u001b[0m                                 Traceback (most recent call last)",
      "Cell \u001b[0;32mIn[5], line 1\u001b[0m\n\u001b[0;32m----> 1\u001b[0m template \u001b[38;5;241m=\u001b[39m \u001b[43mload_file\u001b[49m(\u001b[38;5;124m\"\u001b[39m\u001b[38;5;124m../prompts/system_message.txt\u001b[39m\u001b[38;5;124m\"\u001b[39m)\n\u001b[1;32m      2\u001b[0m langchain_executor \u001b[38;5;241m=\u001b[39m create_langchain_pipeline(retriever, template)\n",
      "\u001b[0;31mNameError\u001b[0m: name 'load_file' is not defined"
     ]
    }
   ],
   "source": [
    "template = load_file(\"../prompts/system_message.txt\")\n",
    "langchain_executor = create_langchain_pipeline(retriever, template)"
   ]
  },
  {
   "cell_type": "code",
   "execution_count": 6,
   "metadata": {},
   "outputs": [
    {
     "ename": "NameError",
     "evalue": "name 'retriever' is not defined",
     "output_type": "error",
     "traceback": [
      "\u001b[0;31m---------------------------------------------------------------------------\u001b[0m",
      "\u001b[0;31mNameError\u001b[0m                                 Traceback (most recent call last)",
      "Cell \u001b[0;32mIn[6], line 2\u001b[0m\n\u001b[1;32m      1\u001b[0m question \u001b[38;5;241m=\u001b[39m \u001b[38;5;124m\"\u001b[39m\u001b[38;5;124mWho are the parties to the Agreement and what are their defined names?\u001b[39m\u001b[38;5;124m\"\u001b[39m\n\u001b[0;32m----> 2\u001b[0m relevant_docs \u001b[38;5;241m=\u001b[39m \u001b[43mretriever\u001b[49m\u001b[38;5;241m.\u001b[39mget_relevant_documents(question)\n",
      "\u001b[0;31mNameError\u001b[0m: name 'retriever' is not defined"
     ]
    }
   ],
   "source": [
    "question = \"Who are the parties to the Agreement and what are their defined names?\"\n",
    "relevant_docs = retriever.get_relevant_documents(question)"
   ]
  },
  {
   "cell_type": "code",
   "execution_count": 10,
   "metadata": {},
   "outputs": [
    {
     "data": {
      "text/plain": [
       "[Document(page_content='Term: The term of this Agreement shall commence on the Effective Date and shall continue until terminated in accordance with the provisions herein (the \"Term\").', metadata={'source': '../data/Evaluation Sets/Robinson Advisory.txt'}),\n",
       " Document(page_content='Governing Law and Jurisdiction:  This Agreement shall be governed by the laws of the State of Israel, without giving effect to the rules respecting conflicts of laws. The parties consent to the exclusive jurisdiction and venue of Tel Aviv courts for any lawsuit filed arising from or relating to this Agreement.', metadata={'source': '../data/Evaluation Sets/Robinson Advisory.txt'}),\n",
       " Document(page_content='Whereas,\\tAdvisor has expertise and/or knowledge and/or relationships, which are relevant to the Company’s business and the Company has asked Advisor to provide it with certain Advisory services, as described in this Agreement; and\\nWhereas, \\tAdvisor has agreed to provide the Company with such services, subject to the terms set forth in this Agreement.\\n\\nNOW THEREFORE THE PARTIES AGREE AS FOLLOWS:', metadata={'source': '../data/Evaluation Sets/Robinson Advisory.txt'}),\n",
       " Document(page_content='Entire Agreement; No Waiver or Assignment: This Agreement together with the Exhibits, which are attached hereto and incorporated herein, set forth the entire Agreement between the parties and shall supersede all previous communications and agreements between the parties, either oral or written. This Agreement may be modified only by a written amendment executed by both parties. This Agreement may not be assigned, sold, delegated or transferred in any manner by Advisor for any reason whatsoever. The Company may assign the Agreement to a successor of all or substantially all of its assets or business, provided the assignee has assumed the Company’s obligations under this Agreement.', metadata={'source': '../data/Evaluation Sets/Robinson Advisory.txt'})]"
      ]
     },
     "execution_count": 10,
     "metadata": {},
     "output_type": "execute_result"
    }
   ],
   "source": [
    "relevant_docs"
   ]
  },
  {
   "cell_type": "code",
   "execution_count": 7,
   "metadata": {},
   "outputs": [],
   "source": [
    "question = \"What is the termination notice?\""
   ]
  },
  {
   "cell_type": "code",
   "execution_count": 8,
   "metadata": {},
   "outputs": [
    {
     "ename": "NameError",
     "evalue": "name 'langchain_executor' is not defined",
     "output_type": "error",
     "traceback": [
      "\u001b[0;31m---------------------------------------------------------------------------\u001b[0m",
      "\u001b[0;31mNameError\u001b[0m                                 Traceback (most recent call last)",
      "Cell \u001b[0;32mIn[8], line 1\u001b[0m\n\u001b[0;32m----> 1\u001b[0m response \u001b[38;5;241m=\u001b[39m \u001b[43mlangchain_executor\u001b[49m\u001b[38;5;241m.\u001b[39minvoke(question)\n",
      "\u001b[0;31mNameError\u001b[0m: name 'langchain_executor' is not defined"
     ]
    }
   ],
   "source": [
    "response = langchain_executor.invoke(question)"
   ]
  },
  {
   "cell_type": "code",
   "execution_count": 13,
   "metadata": {},
   "outputs": [
    {
     "data": {
      "text/plain": [
       "\"The termination notice is a written notice that can be provided by either party to terminate the Agreement, with or without cause, upon fourteen (14) days' prior written notice. The Company may terminate the Agreement immediately and without prior notice if the Advisor refuses or is unable to perform the Services, or is in breach of any provision of the Agreement.\""
      ]
     },
     "execution_count": 13,
     "metadata": {},
     "output_type": "execute_result"
    }
   ],
   "source": [
    "response"
   ]
  },
  {
   "cell_type": "code",
   "execution_count": 20,
   "metadata": {},
   "outputs": [
    {
     "name": "stderr",
     "output_type": "stream",
     "text": [
      "2024-02-22 00:37:05,307:logger:Successfully converted /home/babi/Desktop/10academy/week11/Optimized-Contract-QA-RAG-System-Enhancements/data/Evaluation Sets/Robinson Q&A.docx to TXT format.\n"
     ]
    }
   ],
   "source": [
    "qa_docx_file_path = \"/home/babi/Desktop/10academy/week11/Optimized-Contract-QA-RAG-System-Enhancements/data/Evaluation Sets/Robinson Q&A.docx\"\n",
    "qa_txt_file_path = convert_docx_to_txt(qa_docx_file_path)\n",
    "questions, ground_truths = read_questions_answers(qa_txt_file_path)"
   ]
  },
  {
   "cell_type": "code",
   "execution_count": 25,
   "metadata": {},
   "outputs": [],
   "source": [
    "ground_truths = [[x] for x in ground_truths]"
   ]
  },
  {
   "cell_type": "code",
   "execution_count": 9,
   "metadata": {},
   "outputs": [
    {
     "ename": "NameError",
     "evalue": "name 'questions' is not defined",
     "output_type": "error",
     "traceback": [
      "\u001b[0;31m---------------------------------------------------------------------------\u001b[0m",
      "\u001b[0;31mNameError\u001b[0m                                 Traceback (most recent call last)",
      "Cell \u001b[0;32mIn[9], line 3\u001b[0m\n\u001b[1;32m      1\u001b[0m contexts \u001b[38;5;241m=\u001b[39m []\n\u001b[1;32m      2\u001b[0m answers \u001b[38;5;241m=\u001b[39m []\n\u001b[0;32m----> 3\u001b[0m \u001b[38;5;28;01mfor\u001b[39;00m question \u001b[38;5;129;01min\u001b[39;00m \u001b[43mquestions\u001b[49m:\n\u001b[1;32m      4\u001b[0m     contexts\u001b[38;5;241m.\u001b[39mappend([docs\u001b[38;5;241m.\u001b[39mpage_content \u001b[38;5;28;01mfor\u001b[39;00m docs \u001b[38;5;129;01min\u001b[39;00m retriever\u001b[38;5;241m.\u001b[39mget_relevant_documents(question)])\n\u001b[1;32m      5\u001b[0m     answers\u001b[38;5;241m.\u001b[39mappend(langchain_executor\u001b[38;5;241m.\u001b[39minvoke(question))\n",
      "\u001b[0;31mNameError\u001b[0m: name 'questions' is not defined"
     ]
    }
   ],
   "source": [
    "contexts = []\n",
    "answers = []\n",
    "for question in questions:\n",
    "    contexts.append([docs.page_content for docs in retriever.get_relevant_documents(question)])\n",
    "    answers.append(langchain_executor.invoke(question))"
   ]
  },
  {
   "cell_type": "code",
   "execution_count": 10,
   "metadata": {},
   "outputs": [
    {
     "ename": "NameError",
     "evalue": "name 'questions' is not defined",
     "output_type": "error",
     "traceback": [
      "\u001b[0;31m---------------------------------------------------------------------------\u001b[0m",
      "\u001b[0;31mNameError\u001b[0m                                 Traceback (most recent call last)",
      "Cell \u001b[0;32mIn[10], line 2\u001b[0m\n\u001b[1;32m      1\u001b[0m data \u001b[38;5;241m=\u001b[39m {\n\u001b[0;32m----> 2\u001b[0m             \u001b[38;5;124m\"\u001b[39m\u001b[38;5;124mquestion\u001b[39m\u001b[38;5;124m\"\u001b[39m: \u001b[43mquestions\u001b[49m, \u001b[38;5;66;03m# list \u001b[39;00m\n\u001b[1;32m      3\u001b[0m             \u001b[38;5;124m\"\u001b[39m\u001b[38;5;124manswer\u001b[39m\u001b[38;5;124m\"\u001b[39m: answers, \u001b[38;5;66;03m# list\u001b[39;00m\n\u001b[1;32m      4\u001b[0m             \u001b[38;5;124m\"\u001b[39m\u001b[38;5;124mcontexts\u001b[39m\u001b[38;5;124m\"\u001b[39m: contexts, \u001b[38;5;66;03m# list list\u001b[39;00m\n\u001b[1;32m      5\u001b[0m             \u001b[38;5;124m\"\u001b[39m\u001b[38;5;124mground_truths\u001b[39m\u001b[38;5;124m\"\u001b[39m: ground_truths \u001b[38;5;66;03m# list Lists\u001b[39;00m\n\u001b[1;32m      6\u001b[0m         }\n\u001b[1;32m      9\u001b[0m \u001b[38;5;66;03m# Convert dict to dataset\u001b[39;00m\n\u001b[1;32m     10\u001b[0m dataset \u001b[38;5;241m=\u001b[39m Dataset\u001b[38;5;241m.\u001b[39mfrom_dict(data)\n",
      "\u001b[0;31mNameError\u001b[0m: name 'questions' is not defined"
     ]
    }
   ],
   "source": [
    "data = {\n",
    "            \"question\": questions, # list \n",
    "            \"answer\": answers, # list\n",
    "            \"contexts\": contexts, # list list\n",
    "            \"ground_truths\": ground_truths # list Lists\n",
    "        }\n",
    "\n",
    "\n",
    "# Convert dict to dataset\n",
    "dataset = Dataset.from_dict(data)\n",
    "\n",
    "df = ragas_evaulation(dataset)\n"
   ]
  },
  {
   "cell_type": "code",
   "execution_count": 28,
   "metadata": {},
   "outputs": [
    {
     "data": {
      "text/html": [
       "<div>\n",
       "<style scoped>\n",
       "    .dataframe tbody tr th:only-of-type {\n",
       "        vertical-align: middle;\n",
       "    }\n",
       "\n",
       "    .dataframe tbody tr th {\n",
       "        vertical-align: top;\n",
       "    }\n",
       "\n",
       "    .dataframe thead th {\n",
       "        text-align: right;\n",
       "    }\n",
       "</style>\n",
       "<table border=\"1\" class=\"dataframe\">\n",
       "  <thead>\n",
       "    <tr style=\"text-align: right;\">\n",
       "      <th></th>\n",
       "      <th>question</th>\n",
       "      <th>answer</th>\n",
       "      <th>contexts</th>\n",
       "      <th>ground_truths</th>\n",
       "      <th>context_precision</th>\n",
       "      <th>context_recall</th>\n",
       "      <th>faithfulness</th>\n",
       "      <th>answer_relevancy</th>\n",
       "    </tr>\n",
       "  </thead>\n",
       "  <tbody>\n",
       "    <tr>\n",
       "      <th>0</th>\n",
       "      <td>Who are the parties to the Agreement and what ...</td>\n",
       "      <td>The parties to the Agreement are the Advisor a...</td>\n",
       "      <td>[Term: The term of this Agreement shall commen...</td>\n",
       "      <td>[Cloud Investments Ltd. (“Company”) and Jack R...</td>\n",
       "      <td>0.0</td>\n",
       "      <td>0.5</td>\n",
       "      <td>0.5</td>\n",
       "      <td>0.953999</td>\n",
       "    </tr>\n",
       "    <tr>\n",
       "      <th>1</th>\n",
       "      <td>What is the termination notice?</td>\n",
       "      <td>The termination notice is a written notice tha...</td>\n",
       "      <td>[Termination: Either party, at any given time,...</td>\n",
       "      <td>[According to section 4:14 days for convenienc...</td>\n",
       "      <td>1.0</td>\n",
       "      <td>0.5</td>\n",
       "      <td>1.0</td>\n",
       "      <td>0.954028</td>\n",
       "    </tr>\n",
       "    <tr>\n",
       "      <th>2</th>\n",
       "      <td>What are the payments to the Advisor under the...</td>\n",
       "      <td>The payments to the Advisor under the Agreemen...</td>\n",
       "      <td>[Relationship of the Parties; Indemnification:...</td>\n",
       "      <td>[According to section 6: 1. Fees of $9 per hou...</td>\n",
       "      <td>0.5</td>\n",
       "      <td>1.0</td>\n",
       "      <td>1.0</td>\n",
       "      <td>0.966477</td>\n",
       "    </tr>\n",
       "    <tr>\n",
       "      <th>3</th>\n",
       "      <td>Can the Agreement or any of its obligations be...</td>\n",
       "      <td>The Agreement may not be assigned, sold, deleg...</td>\n",
       "      <td>[Entire Agreement; No Waiver or Assignment: Th...</td>\n",
       "      <td>[1. Under section 1.1 the Advisor can’t assign...</td>\n",
       "      <td>1.0</td>\n",
       "      <td>1.0</td>\n",
       "      <td>1.0</td>\n",
       "      <td>0.925605</td>\n",
       "    </tr>\n",
       "    <tr>\n",
       "      <th>4</th>\n",
       "      <td>Who owns the IP?</td>\n",
       "      <td>The IP is fully and exclusively owned by the C...</td>\n",
       "      <td>[IP: Any Work Product, upon creation, shall be...</td>\n",
       "      <td>[According to section 4 of the Undertaking (Ap...</td>\n",
       "      <td>1.0</td>\n",
       "      <td>1.0</td>\n",
       "      <td>1.0</td>\n",
       "      <td>0.934643</td>\n",
       "    </tr>\n",
       "    <tr>\n",
       "      <th>5</th>\n",
       "      <td>Is there a non-compete obligation to the Advisor?</td>\n",
       "      <td>Yes, there is a non-compete obligation to the ...</td>\n",
       "      <td>[Non-Compete: During the term of engagement wi...</td>\n",
       "      <td>[Yes. During the term of engagement with the C...</td>\n",
       "      <td>1.0</td>\n",
       "      <td>1.0</td>\n",
       "      <td>1.0</td>\n",
       "      <td>1.000000</td>\n",
       "    </tr>\n",
       "    <tr>\n",
       "      <th>6</th>\n",
       "      <td>Can the Advisor charge for meal time?</td>\n",
       "      <td>No, the Advisor cannot charge for meal time as...</td>\n",
       "      <td>[Compensation:\\nAs full and sole consideration...</td>\n",
       "      <td>[No. See Section 6.1, Billable Hour doesn’t in...</td>\n",
       "      <td>0.0</td>\n",
       "      <td>1.0</td>\n",
       "      <td>1.0</td>\n",
       "      <td>1.000000</td>\n",
       "    </tr>\n",
       "    <tr>\n",
       "      <th>7</th>\n",
       "      <td>In which street does the Advisor live?</td>\n",
       "      <td>The Advisor lives at 1 Rabin st, Tel Aviv, Isr...</td>\n",
       "      <td>[Jurisdiction: This Undertaking shall be gover...</td>\n",
       "      <td>[1 Rabin st, Tel Aviv, Israel]</td>\n",
       "      <td>0.5</td>\n",
       "      <td>1.0</td>\n",
       "      <td>1.0</td>\n",
       "      <td>0.954076</td>\n",
       "    </tr>\n",
       "    <tr>\n",
       "      <th>8</th>\n",
       "      <td>Is the Advisor entitled to social benefits?</td>\n",
       "      <td>The Advisor is not entitled to social benefits...</td>\n",
       "      <td>[Relationship of the Parties; Indemnification:...</td>\n",
       "      <td>[No. According to section 8 of the Agreement, ...</td>\n",
       "      <td>0.0</td>\n",
       "      <td>1.0</td>\n",
       "      <td>1.0</td>\n",
       "      <td>0.960340</td>\n",
       "    </tr>\n",
       "    <tr>\n",
       "      <th>9</th>\n",
       "      <td>What happens if the Advisor claims compensatio...</td>\n",
       "      <td>If the Advisor claims compensation based on an...</td>\n",
       "      <td>[Relationship of the Parties; Indemnification:...</td>\n",
       "      <td>[If the Advisor is determined to be an employe...</td>\n",
       "      <td>1.0</td>\n",
       "      <td>1.0</td>\n",
       "      <td>1.0</td>\n",
       "      <td>0.885357</td>\n",
       "    </tr>\n",
       "  </tbody>\n",
       "</table>\n",
       "</div>"
      ],
      "text/plain": [
       "                                            question  \\\n",
       "0  Who are the parties to the Agreement and what ...   \n",
       "1                    What is the termination notice?   \n",
       "2  What are the payments to the Advisor under the...   \n",
       "3  Can the Agreement or any of its obligations be...   \n",
       "4                                   Who owns the IP?   \n",
       "5  Is there a non-compete obligation to the Advisor?   \n",
       "6              Can the Advisor charge for meal time?   \n",
       "7             In which street does the Advisor live?   \n",
       "8        Is the Advisor entitled to social benefits?   \n",
       "9  What happens if the Advisor claims compensatio...   \n",
       "\n",
       "                                              answer  \\\n",
       "0  The parties to the Agreement are the Advisor a...   \n",
       "1  The termination notice is a written notice tha...   \n",
       "2  The payments to the Advisor under the Agreemen...   \n",
       "3  The Agreement may not be assigned, sold, deleg...   \n",
       "4  The IP is fully and exclusively owned by the C...   \n",
       "5  Yes, there is a non-compete obligation to the ...   \n",
       "6  No, the Advisor cannot charge for meal time as...   \n",
       "7  The Advisor lives at 1 Rabin st, Tel Aviv, Isr...   \n",
       "8  The Advisor is not entitled to social benefits...   \n",
       "9  If the Advisor claims compensation based on an...   \n",
       "\n",
       "                                            contexts  \\\n",
       "0  [Term: The term of this Agreement shall commen...   \n",
       "1  [Termination: Either party, at any given time,...   \n",
       "2  [Relationship of the Parties; Indemnification:...   \n",
       "3  [Entire Agreement; No Waiver or Assignment: Th...   \n",
       "4  [IP: Any Work Product, upon creation, shall be...   \n",
       "5  [Non-Compete: During the term of engagement wi...   \n",
       "6  [Compensation:\\nAs full and sole consideration...   \n",
       "7  [Jurisdiction: This Undertaking shall be gover...   \n",
       "8  [Relationship of the Parties; Indemnification:...   \n",
       "9  [Relationship of the Parties; Indemnification:...   \n",
       "\n",
       "                                       ground_truths  context_precision  \\\n",
       "0  [Cloud Investments Ltd. (“Company”) and Jack R...                0.0   \n",
       "1  [According to section 4:14 days for convenienc...                1.0   \n",
       "2  [According to section 6: 1. Fees of $9 per hou...                0.5   \n",
       "3  [1. Under section 1.1 the Advisor can’t assign...                1.0   \n",
       "4  [According to section 4 of the Undertaking (Ap...                1.0   \n",
       "5  [Yes. During the term of engagement with the C...                1.0   \n",
       "6  [No. See Section 6.1, Billable Hour doesn’t in...                0.0   \n",
       "7                     [1 Rabin st, Tel Aviv, Israel]                0.5   \n",
       "8  [No. According to section 8 of the Agreement, ...                0.0   \n",
       "9  [If the Advisor is determined to be an employe...                1.0   \n",
       "\n",
       "   context_recall  faithfulness  answer_relevancy  \n",
       "0             0.5           0.5          0.953999  \n",
       "1             0.5           1.0          0.954028  \n",
       "2             1.0           1.0          0.966477  \n",
       "3             1.0           1.0          0.925605  \n",
       "4             1.0           1.0          0.934643  \n",
       "5             1.0           1.0          1.000000  \n",
       "6             1.0           1.0          1.000000  \n",
       "7             1.0           1.0          0.954076  \n",
       "8             1.0           1.0          0.960340  \n",
       "9             1.0           1.0          0.885357  "
      ]
     },
     "execution_count": 28,
     "metadata": {},
     "output_type": "execute_result"
    },
    {
     "name": "stderr",
     "output_type": "stream",
     "text": [
      "{\"action\":\"read_disk_use\",\"level\":\"warning\",\"msg\":\"disk usage currently at 81.26%, threshold set to 80.00%\",\"path\":\"/home/babi/.local/share/weaviate\",\"time\":\"2024-02-22T00:46:40+03:00\"}\n",
      "{\"action\":\"read_disk_use\",\"level\":\"warning\",\"msg\":\"disk usage currently at 81.26%, threshold set to 80.00%\",\"path\":\"/home/babi/.local/share/weaviate\",\"time\":\"2024-02-22T01:46:40+03:00\"}\n"
     ]
    }
   ],
   "source": [
    "df"
   ]
  },
  {
   "cell_type": "code",
   "execution_count": null,
   "metadata": {},
   "outputs": [],
   "source": []
  }
 ],
 "metadata": {
  "kernelspec": {
   "display_name": "Python 3 (ipykernel)",
   "language": "python",
   "name": "python3"
  },
  "language_info": {
   "codemirror_mode": {
    "name": "ipython",
    "version": 3
   },
   "file_extension": ".py",
   "mimetype": "text/x-python",
   "name": "python",
   "nbconvert_exporter": "python",
   "pygments_lexer": "ipython3",
   "version": "3.10.12"
  }
 },
 "nbformat": 4,
 "nbformat_minor": 4
}
